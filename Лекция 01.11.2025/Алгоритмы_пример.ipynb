{
  "nbformat": 4,
  "nbformat_minor": 0,
  "metadata": {
    "colab": {
      "provenance": []
    },
    "kernelspec": {
      "name": "python3",
      "display_name": "Python 3"
    },
    "language_info": {
      "name": "python"
    }
  },
  "cells": [
    {
      "cell_type": "code",
      "source": [
        "import random"
      ],
      "metadata": {
        "id": "hLnsHHf-00T0"
      },
      "execution_count": 12,
      "outputs": []
    },
    {
      "cell_type": "code",
      "source": [
        "def sortBasic(arr):\n",
        "  arrayLength = len(arr)\n",
        "\n",
        "  for i in range(arrayLength):\n",
        "    for j in range(i+1,arrayLength):\n",
        "      if(arr[j] > arr[i]):\n",
        "        vrem=arr[j]\n",
        "        arr[j] = arr[i]\n",
        "        arr[i] = vrem\n",
        "\n",
        "  return arr\n"
      ],
      "metadata": {
        "id": "GCIxGt7qiuuB"
      },
      "execution_count": 4,
      "outputs": []
    },
    {
      "cell_type": "code",
      "source": [
        "arrTest=[2,1,6,23,89,1,2,7,1234,345,54,7,43,7,1,4,-432,7]\n",
        "print(arrTest)"
      ],
      "metadata": {
        "colab": {
          "base_uri": "https://localhost:8080/"
        },
        "id": "BcfJw9PorHQ-",
        "outputId": "f9c6066b-27ef-4d6a-ed95-7796ad3e1fe5"
      },
      "execution_count": 5,
      "outputs": [
        {
          "output_type": "stream",
          "name": "stdout",
          "text": [
            "[2, 1, 6, 23, 89, 1, 2, 7, 1234, 345, 54, 7, 43, 7, 1, 4, -432, 7]\n"
          ]
        }
      ]
    },
    {
      "cell_type": "code",
      "source": [
        "sortedArray=sortBasic(arrTest)\n",
        "print(sortedArray)"
      ],
      "metadata": {
        "colab": {
          "base_uri": "https://localhost:8080/"
        },
        "id": "gyFfulnZq25b",
        "outputId": "ebe3259c-2011-4c22-a3a5-4e4c5e113bb4"
      },
      "execution_count": 6,
      "outputs": [
        {
          "output_type": "stream",
          "name": "stdout",
          "text": [
            "[1234, 345, 89, 54, 43, 23, 7, 7, 7, 7, 6, 4, 2, 2, 1, 1, 1, -432]\n"
          ]
        }
      ]
    },
    {
      "cell_type": "code",
      "source": [
        "def findElem(arr,numberToFind):\n",
        "  left=0\n",
        "  right=len(arr)-1\n",
        "\n",
        "  while left <= right:\n",
        "    mid = (left + right) // 2\n",
        "    mid_value= arr[mid]\n",
        "\n",
        "    print(\"Левая граница:\",left,\"Правая граница:\",right,\"значение по центру:\",mid_value)\n",
        "\n",
        "    if(mid_value == numberToFind):\n",
        "      print(\"Нашли по индексу\", mid)\n",
        "      return mid\n",
        "    elif (numberToFind > mid_value):\n",
        "      right = mid - 1\n",
        "    else:\n",
        "      left = mid + 1\n",
        "\n",
        "\n",
        "  return -1\n",
        "\n"
      ],
      "metadata": {
        "id": "WmePGiSKst87"
      },
      "execution_count": 7,
      "outputs": []
    },
    {
      "cell_type": "code",
      "source": [
        "resultIndex=findElem(sortedArray,89)"
      ],
      "metadata": {
        "colab": {
          "base_uri": "https://localhost:8080/"
        },
        "id": "_ExWbeyWw9FH",
        "outputId": "e44bae78-df9c-4675-f3e1-a155f04530f8"
      },
      "execution_count": 11,
      "outputs": [
        {
          "output_type": "stream",
          "name": "stdout",
          "text": [
            "Левая граница: 0 Правая граница: 17 значение по центру: 7\n",
            "Левая граница: 0 Правая граница: 7 значение по центру: 54\n",
            "Левая граница: 0 Правая граница: 2 значение по центру: 345\n",
            "Левая граница: 2 Правая граница: 2 значение по центру: 89\n",
            "Нашли по индексу 2\n"
          ]
        }
      ]
    },
    {
      "cell_type": "code",
      "source": [
        "resultIndex"
      ],
      "metadata": {
        "colab": {
          "base_uri": "https://localhost:8080/"
        },
        "id": "b9dAXIyMyyLO",
        "outputId": "19233c63-b3ec-41a2-83eb-e29dd2907e24"
      },
      "execution_count": 9,
      "outputs": [
        {
          "output_type": "execute_result",
          "data": {
            "text/plain": [
              "-1"
            ]
          },
          "metadata": {},
          "execution_count": 9
        }
      ]
    },
    {
      "cell_type": "code",
      "source": [
        "def playAGame():\n",
        "  choices=[\"камень\", \"ножницы\",\"бумага\"]\n",
        "  while(True):\n",
        "    playerChoice=input(\"Выберите камень, ножницы или бумагу \\n\")\n",
        "    if(playerChoice in choices):\n",
        "      cpuChoice = random.randint(0,2)\n",
        "      cpuChoice = choices[cpuChoice]\n",
        "      print(\"Компьютер выбрал:\", cpuChoice)\n",
        "\n",
        "      if( (playerChoice == \"бумага\" and cpuChoice==\"камень\" ) or (playerChoice == \"ножницы\" and cpuChoice==\"бумага\" ) or (playerChoice == \"камень\" and cpuChoice==\"ножницы\" )):\n",
        "        print(\"Человек победил\")\n",
        "        break\n",
        "      elif((cpuChoice == \"бумага\" and playerChoice==\"камень\" ) or (cpuChoice == \"ножницы\" and playerChoice==\"бумага\" ) or (cpuChoice == \"камень\" and playerChoice==\"ножницы\" )):\n",
        "        print(\"Компьютер победил\")\n",
        "        break\n",
        "      else:\n",
        "        print(\"Ничья\")\n",
        "    else:\n",
        "      print(\"Пожалуйста, введите правильное значение\")\n",
        "\n"
      ],
      "metadata": {
        "id": "oz0v5SSB0gyY"
      },
      "execution_count": 21,
      "outputs": []
    },
    {
      "cell_type": "code",
      "source": [
        "playAGame()"
      ],
      "metadata": {
        "colab": {
          "base_uri": "https://localhost:8080/",
          "height": 290
        },
        "id": "q_RoIYaN1lDc",
        "outputId": "21d23042-a8fb-4879-b09b-d4bb21453ff7"
      },
      "execution_count": 23,
      "outputs": [
        {
          "output_type": "error",
          "ename": "KeyboardInterrupt",
          "evalue": "Interrupted by user",
          "traceback": [
            "\u001b[0;31m---------------------------------------------------------------------------\u001b[0m",
            "\u001b[0;31mKeyboardInterrupt\u001b[0m                         Traceback (most recent call last)",
            "\u001b[0;32m/tmp/ipython-input-7397721.py\u001b[0m in \u001b[0;36m<cell line: 0>\u001b[0;34m()\u001b[0m\n\u001b[0;32m----> 1\u001b[0;31m \u001b[0mplayAGame\u001b[0m\u001b[0;34m(\u001b[0m\u001b[0;34m)\u001b[0m\u001b[0;34m\u001b[0m\u001b[0;34m\u001b[0m\u001b[0m\n\u001b[0m",
            "\u001b[0;32m/tmp/ipython-input-3284228610.py\u001b[0m in \u001b[0;36mplayAGame\u001b[0;34m()\u001b[0m\n\u001b[1;32m      2\u001b[0m   \u001b[0mchoices\u001b[0m\u001b[0;34m=\u001b[0m\u001b[0;34m[\u001b[0m\u001b[0;34m\"камень\"\u001b[0m\u001b[0;34m,\u001b[0m \u001b[0;34m\"ножницы\"\u001b[0m\u001b[0;34m,\u001b[0m\u001b[0;34m\"бумага\"\u001b[0m\u001b[0;34m]\u001b[0m\u001b[0;34m\u001b[0m\u001b[0;34m\u001b[0m\u001b[0m\n\u001b[1;32m      3\u001b[0m   \u001b[0;32mwhile\u001b[0m\u001b[0;34m(\u001b[0m\u001b[0;32mTrue\u001b[0m\u001b[0;34m)\u001b[0m\u001b[0;34m:\u001b[0m\u001b[0;34m\u001b[0m\u001b[0;34m\u001b[0m\u001b[0m\n\u001b[0;32m----> 4\u001b[0;31m     \u001b[0mplayerChoice\u001b[0m\u001b[0;34m=\u001b[0m\u001b[0minput\u001b[0m\u001b[0;34m(\u001b[0m\u001b[0;34m\"Выберите камень, ножницы или бумагу \\n\"\u001b[0m\u001b[0;34m)\u001b[0m\u001b[0;34m\u001b[0m\u001b[0;34m\u001b[0m\u001b[0m\n\u001b[0m\u001b[1;32m      5\u001b[0m     \u001b[0;32mif\u001b[0m\u001b[0;34m(\u001b[0m\u001b[0mplayerChoice\u001b[0m \u001b[0;32min\u001b[0m \u001b[0mchoices\u001b[0m\u001b[0;34m)\u001b[0m\u001b[0;34m:\u001b[0m\u001b[0;34m\u001b[0m\u001b[0;34m\u001b[0m\u001b[0m\n\u001b[1;32m      6\u001b[0m       \u001b[0mcpuChoice\u001b[0m \u001b[0;34m=\u001b[0m \u001b[0mrandom\u001b[0m\u001b[0;34m.\u001b[0m\u001b[0mrandint\u001b[0m\u001b[0;34m(\u001b[0m\u001b[0;36m0\u001b[0m\u001b[0;34m,\u001b[0m\u001b[0;36m2\u001b[0m\u001b[0;34m)\u001b[0m\u001b[0;34m\u001b[0m\u001b[0;34m\u001b[0m\u001b[0m\n",
            "\u001b[0;32m/usr/local/lib/python3.12/dist-packages/ipykernel/kernelbase.py\u001b[0m in \u001b[0;36mraw_input\u001b[0;34m(self, prompt)\u001b[0m\n\u001b[1;32m   1175\u001b[0m                 \u001b[0;34m\"raw_input was called, but this frontend does not support input requests.\"\u001b[0m\u001b[0;34m\u001b[0m\u001b[0;34m\u001b[0m\u001b[0m\n\u001b[1;32m   1176\u001b[0m             )\n\u001b[0;32m-> 1177\u001b[0;31m         return self._input_request(\n\u001b[0m\u001b[1;32m   1178\u001b[0m             \u001b[0mstr\u001b[0m\u001b[0;34m(\u001b[0m\u001b[0mprompt\u001b[0m\u001b[0;34m)\u001b[0m\u001b[0;34m,\u001b[0m\u001b[0;34m\u001b[0m\u001b[0;34m\u001b[0m\u001b[0m\n\u001b[1;32m   1179\u001b[0m             \u001b[0mself\u001b[0m\u001b[0;34m.\u001b[0m\u001b[0m_parent_ident\u001b[0m\u001b[0;34m[\u001b[0m\u001b[0;34m\"shell\"\u001b[0m\u001b[0;34m]\u001b[0m\u001b[0;34m,\u001b[0m\u001b[0;34m\u001b[0m\u001b[0;34m\u001b[0m\u001b[0m\n",
            "\u001b[0;32m/usr/local/lib/python3.12/dist-packages/ipykernel/kernelbase.py\u001b[0m in \u001b[0;36m_input_request\u001b[0;34m(self, prompt, ident, parent, password)\u001b[0m\n\u001b[1;32m   1217\u001b[0m             \u001b[0;32mexcept\u001b[0m \u001b[0mKeyboardInterrupt\u001b[0m\u001b[0;34m:\u001b[0m\u001b[0;34m\u001b[0m\u001b[0;34m\u001b[0m\u001b[0m\n\u001b[1;32m   1218\u001b[0m                 \u001b[0;31m# re-raise KeyboardInterrupt, to truncate traceback\u001b[0m\u001b[0;34m\u001b[0m\u001b[0;34m\u001b[0m\u001b[0m\n\u001b[0;32m-> 1219\u001b[0;31m                 \u001b[0;32mraise\u001b[0m \u001b[0mKeyboardInterrupt\u001b[0m\u001b[0;34m(\u001b[0m\u001b[0;34m\"Interrupted by user\"\u001b[0m\u001b[0;34m)\u001b[0m \u001b[0;32mfrom\u001b[0m \u001b[0;32mNone\u001b[0m\u001b[0;34m\u001b[0m\u001b[0;34m\u001b[0m\u001b[0m\n\u001b[0m\u001b[1;32m   1220\u001b[0m             \u001b[0;32mexcept\u001b[0m \u001b[0mException\u001b[0m\u001b[0;34m:\u001b[0m\u001b[0;34m\u001b[0m\u001b[0;34m\u001b[0m\u001b[0m\n\u001b[1;32m   1221\u001b[0m                 \u001b[0mself\u001b[0m\u001b[0;34m.\u001b[0m\u001b[0mlog\u001b[0m\u001b[0;34m.\u001b[0m\u001b[0mwarning\u001b[0m\u001b[0;34m(\u001b[0m\u001b[0;34m\"Invalid Message:\"\u001b[0m\u001b[0;34m,\u001b[0m \u001b[0mexc_info\u001b[0m\u001b[0;34m=\u001b[0m\u001b[0;32mTrue\u001b[0m\u001b[0;34m)\u001b[0m\u001b[0;34m\u001b[0m\u001b[0;34m\u001b[0m\u001b[0m\n",
            "\u001b[0;31mKeyboardInterrupt\u001b[0m: Interrupted by user"
          ]
        }
      ]
    },
    {
      "cell_type": "code",
      "source": [],
      "metadata": {
        "id": "_hd_dM_e5-rf"
      },
      "execution_count": null,
      "outputs": []
    }
  ]
}