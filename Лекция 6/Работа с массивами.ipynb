{
  "nbformat": 4,
  "nbformat_minor": 0,
  "metadata": {
    "colab": {
      "provenance": []
    },
    "kernelspec": {
      "name": "python3",
      "display_name": "Python 3"
    },
    "language_info": {
      "name": "python"
    }
  },
  "cells": [
    {
      "cell_type": "code",
      "source": [
        "import random"
      ],
      "metadata": {
        "id": "IYaAqHzYPpRf"
      },
      "execution_count": 1,
      "outputs": []
    },
    {
      "cell_type": "markdown",
      "source": [
        "Дан список студентов с их оценками\n",
        "Напишите код, который:\n",
        " 1. Вычисляет средний балл для каждого студента\n",
        " 2. Определяет лучшего студента по среднему баллу\n",
        " 3. Находит студентов, которые не набрали проходной балл(средний бал меньше 3)\n",
        " 4. Считает средний балл по всем студентам"
      ],
      "metadata": {
        "id": "FqD0fkzvOYD4"
      }
    },
    {
      "cell_type": "code",
      "source": [
        "def generate_student_info(students, size):\n",
        "  students_w_marks={}\n",
        "  for student in students:\n",
        "    marks=[random.randint(2,5) for _ in range(size)]\n",
        "    students_w_marks[student]=marks\n",
        "  return students_w_marks"
      ],
      "metadata": {
        "id": "3x3nC2OaPPAR"
      },
      "execution_count": 4,
      "outputs": []
    },
    {
      "cell_type": "code",
      "source": [
        "def get_average(students):\n",
        "  students_average={}\n",
        "  for student in students:\n",
        "    student_marks=students[student]\n",
        "    average=sum(student_marks)/len(student_marks)\n",
        "    students_average[student]=average\n",
        "  return students_average"
      ],
      "metadata": {
        "id": "DmC7wQ6_QZFp"
      },
      "execution_count": 8,
      "outputs": []
    },
    {
      "cell_type": "code",
      "source": [
        "def get_best(student_average):\n",
        "  max=1\n",
        "  max_name=\"\"\n",
        "  for student in student_average:\n",
        "    student_avg= student_average[student]\n",
        "    if student_avg > max:\n",
        "      max=student_avg\n",
        "      max_name=student\n",
        "  return max_name"
      ],
      "metadata": {
        "id": "eY9TjdocRSXD"
      },
      "execution_count": 20,
      "outputs": []
    },
    {
      "cell_type": "code",
      "source": [
        "def find_failed(student_average,pass_ball):\n",
        "  students_fail=[]\n",
        "  for student in student_average:\n",
        "    if pass_ball > student_average[student]:\n",
        "      students_fail.append(student)\n",
        "  return students_fail"
      ],
      "metadata": {
        "id": "I2ofNiiSSeQ-"
      },
      "execution_count": 25,
      "outputs": []
    },
    {
      "cell_type": "code",
      "source": [
        "def get_overall_avg(student_average):\n",
        "  marks_info=student_average.values()\n",
        "  return sum(marks_info)/len(marks_info)"
      ],
      "metadata": {
        "id": "19wNaYTJTRnn"
      },
      "execution_count": 31,
      "outputs": []
    },
    {
      "cell_type": "code",
      "execution_count": 7,
      "metadata": {
        "colab": {
          "base_uri": "https://localhost:8080/"
        },
        "id": "1XmFnzQBN4HM",
        "outputId": "e390ebcd-fcf4-4da9-d8c7-e77ed5eb5b47"
      },
      "outputs": [
        {
          "output_type": "stream",
          "name": "stdout",
          "text": [
            "{'Иван': [2, 4, 3, 4, 5, 2, 2, 3, 5, 5], 'Петр': [5, 3, 2, 4, 4, 2, 5, 5, 3, 2], 'Анна': [5, 3, 5, 2, 5, 5, 3, 5, 3, 4], 'Кирил': [4, 2, 5, 3, 4, 5, 3, 3, 5, 5], 'Александр': [4, 5, 4, 2, 2, 2, 3, 3, 3, 4]}\n"
          ]
        }
      ],
      "source": [
        "students_names=[\"Иван\",\"Петр\",\"Анна\",\"Кирил\",\"Александр\"]\n",
        "students=generate_student_info(students_names,10)\n",
        "print(students)"
      ]
    },
    {
      "cell_type": "code",
      "source": [
        "result=get_average(students)\n",
        "print(result)"
      ],
      "metadata": {
        "colab": {
          "base_uri": "https://localhost:8080/"
        },
        "id": "yNY1WmsiRFpR",
        "outputId": "7b2c8d80-d25a-46c8-fb35-6d57a9656aef"
      },
      "execution_count": 9,
      "outputs": [
        {
          "output_type": "stream",
          "name": "stdout",
          "text": [
            "{'Иван': 3.5, 'Петр': 3.5, 'Анна': 4.0, 'Кирил': 3.9, 'Александр': 3.2}\n"
          ]
        }
      ]
    },
    {
      "cell_type": "code",
      "source": [
        "print(result)"
      ],
      "metadata": {
        "colab": {
          "base_uri": "https://localhost:8080/"
        },
        "id": "w9PSqkt2SJgI",
        "outputId": "7380bc26-affe-433c-f96a-944f73a6a704"
      },
      "execution_count": 14,
      "outputs": [
        {
          "output_type": "stream",
          "name": "stdout",
          "text": [
            "{'Иван': 3.5, 'Петр': 3.5, 'Анна': 4.0, 'Кирил': 3.9, 'Александр': 3.2}\n"
          ]
        }
      ]
    },
    {
      "cell_type": "code",
      "source": [
        "print(get_best(result))"
      ],
      "metadata": {
        "colab": {
          "base_uri": "https://localhost:8080/"
        },
        "id": "SmLBU_jnR5oR",
        "outputId": "97c14c98-7814-4445-871c-77cfab410c0d"
      },
      "execution_count": 21,
      "outputs": [
        {
          "output_type": "stream",
          "name": "stdout",
          "text": [
            "Анна\n"
          ]
        }
      ]
    },
    {
      "cell_type": "code",
      "source": [
        "print(find_failed(result,3.5))"
      ],
      "metadata": {
        "colab": {
          "base_uri": "https://localhost:8080/"
        },
        "id": "nGP8-IhxS2al",
        "outputId": "b98fcb2f-c9ee-4581-f5bf-dd0b62499e53"
      },
      "execution_count": 28,
      "outputs": [
        {
          "output_type": "stream",
          "name": "stdout",
          "text": [
            "['Александр']\n"
          ]
        }
      ]
    },
    {
      "cell_type": "code",
      "source": [
        "print(get_overall_avg(result))"
      ],
      "metadata": {
        "colab": {
          "base_uri": "https://localhost:8080/"
        },
        "id": "N38KopSWTO1l",
        "outputId": "856f51fc-a3b8-4e86-e4bd-e4659a4c9bb3"
      },
      "execution_count": 32,
      "outputs": [
        {
          "output_type": "stream",
          "name": "stdout",
          "text": [
            "3.62\n"
          ]
        }
      ]
    }
  ]
}